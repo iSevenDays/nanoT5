{
 "cells": [
  {
   "cell_type": "code",
   "execution_count": null,
   "metadata": {
    "collapsed": true
   },
   "outputs": [],
   "source": [
    "colab = False\n",
    "try:\n",
    "  import google.colab\n",
    "  colab = True\n",
    "except:\n",
    "  import os\n",
    "  os.environ['PYTORCH_ENABLE_MPS_FALLBACK'] = '1'\n",
    "  os.environ[\"TORCH_MPS\"] = \"1\"\n",
    "\n",
    "print(f'colab mode: {colab}')\n",
    "!pwd"
   ]
  },
  {
   "cell_type": "code",
   "execution_count": null,
   "outputs": [],
   "source": [
    "import torch\n",
    "requirements_installed = False\n",
    "if torch.__version__.startswith('2.'):\n",
    "  requirements_installed = True\n",
    "print(f'requirements_installed: {requirements_installed}')"
   ],
   "metadata": {
    "collapsed": false
   }
  },
  {
   "cell_type": "code",
   "execution_count": null,
   "outputs": [],
   "source": [
    "if colab:\n",
    "  !git clone https://github.com/iSevenDays/nanoT5.git\n",
    "  path = !pwd\n",
    "  if 'nanoT5' not in path:\n",
    "    %cd nanoT5/\n",
    "  !git pull origin master"
   ],
   "metadata": {
    "collapsed": false
   }
  },
  {
   "cell_type": "code",
   "execution_count": null,
   "outputs": [],
   "source": [
    "if colab:\n",
    "  !nvidia-smi"
   ],
   "metadata": {
    "collapsed": false
   }
  },
  {
   "cell_type": "code",
   "execution_count": null,
   "outputs": [],
   "source": [
    "if colab and not requirements_installed:\n",
    "    !pip install bitsandbytes==0.35.4 \\\n",
    "    charset-normalizer==3.1.0 \\\n",
    "    cython==0.29.33 \\\n",
    "    datasets==2.10.1 \\\n",
    "    happytransformer==2.4.1 \\\n",
    "    huggingface-hub==0.11.1 \\\n",
    "    mwparserfromhell==0.6.4 \\\n",
    "    nltk==3.8.1 \\\n",
    "    numpy \\\n",
    "    protobuf==3.20.* \\\n",
    "    pytorch-lightning \\\n",
    "    six==1.16.0 \\\n",
    "    tokenizers==0.13.2 \\\n",
    "    torch --pre --force-reinstall --extra-index-url https://download.pytorch.org/whl/nightly/cu117 \\\n",
    "    torchmetrics==0.11.3 \\\n",
    "    tqdm==4.65.0 \\\n",
    "    transformers==4.26.1 \\\n",
    "    typing-extensions==4.5.0 \\\n",
    "    einops \\\n",
    "    accelerate \\\n",
    "    sentencepiece \\\n",
    "    neptune \\\n",
    "    pdbpp \\\n",
    "    pyyaml \\\n",
    "    pynvml \\\n",
    "    hydra-core \\\n",
    "    evaluate \\\n",
    "    absl-py \\\n",
    "    rouge_score"
   ],
   "metadata": {
    "collapsed": false
   }
  },
  {
   "cell_type": "code",
   "execution_count": null,
   "outputs": [],
   "source": [
    "import os\n",
    "os.getcwd()"
   ],
   "metadata": {
    "collapsed": false
   }
  },
  {
   "cell_type": "code",
   "execution_count": null,
   "outputs": [],
   "source": [
    "!pwd\n",
    "import sys\n",
    "sys.path.append('/content/nanoT5')\n",
    "sys.path.append('/content/nanoT5/')"
   ],
   "metadata": {
    "collapsed": false
   }
  },
  {
   "cell_type": "code",
   "execution_count": null,
   "outputs": [],
   "source": [
    "if colab:\n",
    "  from google.colab import drive\n",
    "  drive.mount('/content/drive')"
   ],
   "metadata": {
    "collapsed": false
   }
  },
  {
   "cell_type": "code",
   "execution_count": null,
   "outputs": [],
   "source": [
    "if colab:\n",
    "  !ls /content/drive/MyDrive/gpt-checkpoints\n",
    "  out_dir = '/content/drive/MyDrive/t5-checkpoints'\n"
   ],
   "metadata": {
    "collapsed": false
   }
  },
  {
   "cell_type": "code",
   "execution_count": null,
   "outputs": [],
   "source": [
    "!python -m nanoT5.main model.checkpoint_path=/content/drive/MyDrive/t5-checkpoints/pytorch_model.bin optim.lr_scheduler_checkpoint_path=/content/drive/MyDrive/t5-checkpoints/scheduler.bin optim.checkpoint_path=/content/drive/MyDrive/t5-checkpoints/optimizer.bin"
   ],
   "metadata": {
    "collapsed": false
   }
  },
  {
   "cell_type": "code",
   "execution_count": null,
   "outputs": [],
   "source": [],
   "metadata": {
    "collapsed": false
   }
  },
  {
   "cell_type": "code",
   "execution_count": null,
   "outputs": [],
   "source": [],
   "metadata": {
    "collapsed": false
   }
  },
  {
   "cell_type": "code",
   "execution_count": null,
   "outputs": [],
   "source": [],
   "metadata": {
    "collapsed": false
   }
  },
  {
   "cell_type": "code",
   "execution_count": null,
   "outputs": [],
   "source": [],
   "metadata": {
    "collapsed": false
   }
  },
  {
   "cell_type": "code",
   "execution_count": null,
   "outputs": [],
   "source": [],
   "metadata": {
    "collapsed": false
   }
  }
 ],
 "metadata": {
  "kernelspec": {
   "display_name": "Python 3",
   "language": "python",
   "name": "python3"
  },
  "language_info": {
   "codemirror_mode": {
    "name": "ipython",
    "version": 2
   },
   "file_extension": ".py",
   "mimetype": "text/x-python",
   "name": "python",
   "nbconvert_exporter": "python",
   "pygments_lexer": "ipython2",
   "version": "2.7.6"
  }
 },
 "nbformat": 4,
 "nbformat_minor": 0
}
